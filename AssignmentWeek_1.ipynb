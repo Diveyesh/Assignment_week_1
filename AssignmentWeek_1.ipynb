{
  "nbformat": 4,
  "nbformat_minor": 0,
  "metadata": {
    "colab": {
      "provenance": []
    },
    "kernelspec": {
      "name": "python3",
      "display_name": "Python 3"
    },
    "language_info": {
      "name": "python"
    }
  },
  "cells": [
    {
      "cell_type": "markdown",
      "source": [
        "##SUBMITTED BY - DIVEYESH\n"
      ],
      "metadata": {
        "id": "yNexPA731OxG"
      }
    },
    {
      "cell_type": "markdown",
      "source": [
        "#**Question-1**\n"
      ],
      "metadata": {
        "id": "yF4AcgccqTlD"
      }
    },
    {
      "cell_type": "code",
      "execution_count": 1,
      "metadata": {
        "id": "kyTRCEzoowqx"
      },
      "outputs": [],
      "source": [
        "string_1 = \"diveyesh\""
      ]
    },
    {
      "cell_type": "code",
      "source": [
        "list_1 = [\"diveyesh\",1,True]"
      ],
      "metadata": {
        "id": "_SlfnYjHqk6n"
      },
      "execution_count": 2,
      "outputs": []
    },
    {
      "cell_type": "code",
      "source": [
        "float_1 = 2.5"
      ],
      "metadata": {
        "id": "jrJW5S4BqrF6"
      },
      "execution_count": 3,
      "outputs": []
    },
    {
      "cell_type": "code",
      "source": [
        "tuple_1 = (1,2,\"diveyesh\")"
      ],
      "metadata": {
        "id": "bysRRpTYqvDe"
      },
      "execution_count": 4,
      "outputs": []
    },
    {
      "cell_type": "markdown",
      "source": [
        "#**Question-2**"
      ],
      "metadata": {
        "id": "2X6hJQtWuh9O"
      }
    },
    {
      "cell_type": "code",
      "source": [
        "var1 = \"\" #string\n",
        "type(var1)"
      ],
      "metadata": {
        "colab": {
          "base_uri": "https://localhost:8080/"
        },
        "id": "GbZE_qbvq8ex",
        "outputId": "bf8b3ec9-7d07-4633-8460-51e819b23665"
      },
      "execution_count": null,
      "outputs": [
        {
          "output_type": "execute_result",
          "data": {
            "text/plain": [
              "str"
            ]
          },
          "metadata": {},
          "execution_count": 10
        }
      ]
    },
    {
      "cell_type": "code",
      "source": [
        "var2 = '[DS,ML,Python]' #string\n",
        "type(var2)"
      ],
      "metadata": {
        "colab": {
          "base_uri": "https://localhost:8080/"
        },
        "id": "1sw9fDUFrKlf",
        "outputId": "d8cf474f-ad3d-4277-b993-1fc3ff1ea513"
      },
      "execution_count": null,
      "outputs": [
        {
          "output_type": "execute_result",
          "data": {
            "text/plain": [
              "str"
            ]
          },
          "metadata": {},
          "execution_count": 11
        }
      ]
    },
    {
      "cell_type": "code",
      "source": [
        "var3 = ['DS','ML','Python'] #list\n",
        "type(var3)"
      ],
      "metadata": {
        "colab": {
          "base_uri": "https://localhost:8080/"
        },
        "id": "PE9zMf7DroUi",
        "outputId": "9d16934a-cee5-4cb9-de99-65ab13b04519"
      },
      "execution_count": null,
      "outputs": [
        {
          "output_type": "execute_result",
          "data": {
            "text/plain": [
              "list"
            ]
          },
          "metadata": {},
          "execution_count": 13
        }
      ]
    },
    {
      "cell_type": "code",
      "source": [
        "var4 = 1  # int\n",
        "type(var4)\n"
      ],
      "metadata": {
        "colab": {
          "base_uri": "https://localhost:8080/"
        },
        "id": "Z1ev14GbrnJx",
        "outputId": "81bd7599-cdd4-4954-9717-4192cc1febcd"
      },
      "execution_count": null,
      "outputs": [
        {
          "output_type": "execute_result",
          "data": {
            "text/plain": [
              "int"
            ]
          },
          "metadata": {},
          "execution_count": 14
        }
      ]
    },
    {
      "cell_type": "markdown",
      "source": [
        "#**Question-3**"
      ],
      "metadata": {
        "id": "AwufIUxtuzgV"
      }
    },
    {
      "cell_type": "code",
      "source": [
        "10/2 #Divison. Used for division of numbers."
      ],
      "metadata": {
        "colab": {
          "base_uri": "https://localhost:8080/"
        },
        "id": "CgAid3w6r7HY",
        "outputId": "5c81e676-156f-481c-a1f2-120226d86a69"
      },
      "execution_count": null,
      "outputs": [
        {
          "output_type": "execute_result",
          "data": {
            "text/plain": [
              "5.0"
            ]
          },
          "metadata": {},
          "execution_count": 15
        }
      ]
    },
    {
      "cell_type": "code",
      "source": [
        "5%2 #Modulo operator. Used to find the remainder while dividing."
      ],
      "metadata": {
        "colab": {
          "base_uri": "https://localhost:8080/"
        },
        "id": "oYYhVKauu-VO",
        "outputId": "af2a5ef6-e23b-415e-ef9d-9f40bb8ef754"
      },
      "execution_count": null,
      "outputs": [
        {
          "output_type": "execute_result",
          "data": {
            "text/plain": [
              "1"
            ]
          },
          "metadata": {},
          "execution_count": 16
        }
      ]
    },
    {
      "cell_type": "code",
      "source": [
        "5//2 #Floor division.This operator will divide the first argument by the second and round the result down to the nearest whole number."
      ],
      "metadata": {
        "colab": {
          "base_uri": "https://localhost:8080/"
        },
        "id": "lE3o70zPvKXJ",
        "outputId": "8c2d3bec-d5b9-461c-bacc-24c5b004d077"
      },
      "execution_count": null,
      "outputs": [
        {
          "output_type": "execute_result",
          "data": {
            "text/plain": [
              "2"
            ]
          },
          "metadata": {},
          "execution_count": 17
        }
      ]
    },
    {
      "cell_type": "code",
      "source": [
        "2**2 #Exponentiation.Exponentiation is a mathematical operation, often called raising a number to a power, where a given number is multiplied by itself a given number of times."
      ],
      "metadata": {
        "colab": {
          "base_uri": "https://localhost:8080/"
        },
        "id": "1PkSPiPkvLVP",
        "outputId": "ffc8ee99-4162-4fd1-cec6-26efc0ce2954"
      },
      "execution_count": null,
      "outputs": [
        {
          "output_type": "execute_result",
          "data": {
            "text/plain": [
              "4"
            ]
          },
          "metadata": {},
          "execution_count": 18
        }
      ]
    },
    {
      "cell_type": "markdown",
      "source": [
        "#**Question-4**"
      ],
      "metadata": {
        "id": "L5Yj7am5vcs0"
      }
    },
    {
      "cell_type": "code",
      "source": [
        "list_1 =[1,2,3,\"diveyesh\",5,True,\"data science\",6+7j,False,6.0]\n"
      ],
      "metadata": {
        "id": "KCHitFxTvLRy"
      },
      "execution_count": null,
      "outputs": []
    },
    {
      "cell_type": "code",
      "source": [
        "for i in list_1:\n",
        "  print(i)\n",
        "  print(type(i))"
      ],
      "metadata": {
        "colab": {
          "base_uri": "https://localhost:8080/"
        },
        "id": "Pguc6jclvLOu",
        "outputId": "e50fea54-993b-417c-9b56-2b071c1a361c"
      },
      "execution_count": null,
      "outputs": [
        {
          "output_type": "stream",
          "name": "stdout",
          "text": [
            "1\n",
            "<class 'int'>\n",
            "2\n",
            "<class 'int'>\n",
            "3\n",
            "<class 'int'>\n",
            "diveyesh\n",
            "<class 'str'>\n",
            "5\n",
            "<class 'int'>\n",
            "True\n",
            "<class 'bool'>\n",
            "data science\n",
            "<class 'str'>\n",
            "(6+7j)\n",
            "<class 'complex'>\n",
            "False\n",
            "<class 'bool'>\n",
            "6.0\n",
            "<class 'float'>\n"
          ]
        }
      ]
    },
    {
      "cell_type": "markdown",
      "source": [
        "#**Question-5**"
      ],
      "metadata": {
        "id": "CbxVZerhwtHm"
      }
    },
    {
      "cell_type": "code",
      "source": [
        "variable_a = int(input(\"kindly enter the first number\"))\n",
        "variable_b = int(input(\"kindly enter the second number\"))"
      ],
      "metadata": {
        "colab": {
          "base_uri": "https://localhost:8080/"
        },
        "id": "OnfegqOsvLL_",
        "outputId": "144fabb2-d966-428b-d61c-604e748b238e"
      },
      "execution_count": 6,
      "outputs": [
        {
          "name": "stdout",
          "output_type": "stream",
          "text": [
            "kindly enter the first number8\n",
            "kindly enter the second number3\n"
          ]
        }
      ]
    },
    {
      "cell_type": "code",
      "source": [
        "count = 0\n",
        "while variable_a % variable_b == 0:\n",
        "  variable_a = variable_a/variable_b\n",
        "  count += 1\n",
        "if count > 0:\n",
        "  print(f\"First number is fully divided by second number. {count} times\")\n",
        "else:\n",
        "  print(\"First number is not fully divided by Second number\")\n",
        "  \n"
      ],
      "metadata": {
        "colab": {
          "base_uri": "https://localhost:8080/"
        },
        "id": "tnwt-g_xvKTh",
        "outputId": "36fbb6f2-f52a-4e3c-b8bc-c1245572bf06"
      },
      "execution_count": 7,
      "outputs": [
        {
          "output_type": "stream",
          "name": "stdout",
          "text": [
            "First number is not fully divided by second number\n"
          ]
        }
      ]
    },
    {
      "cell_type": "markdown",
      "source": [
        "#**Question-6**"
      ],
      "metadata": {
        "id": "bfO18zKs5Hcq"
      }
    },
    {
      "cell_type": "code",
      "source": [
        "list_2 = list(range(1,26))"
      ],
      "metadata": {
        "id": "l8LQWIL9w1At"
      },
      "execution_count": 17,
      "outputs": []
    },
    {
      "cell_type": "code",
      "source": [
        "print(list_2)"
      ],
      "metadata": {
        "colab": {
          "base_uri": "https://localhost:8080/"
        },
        "id": "Ij1skemVw096",
        "outputId": "86acbc21-73dd-4a9b-991b-dd243b476456"
      },
      "execution_count": 18,
      "outputs": [
        {
          "output_type": "stream",
          "name": "stdout",
          "text": [
            "[1, 2, 3, 4, 5, 6, 7, 8, 9, 10, 11, 12, 13, 14, 15, 16, 17, 18, 19, 20, 21, 22, 23, 24, 25]\n"
          ]
        }
      ]
    },
    {
      "cell_type": "code",
      "source": [
        "for i in list_2:\n",
        "  if i%3 == 0:\n",
        "    print(f\"{i} is divisible by 3\")\n",
        "  else:\n",
        "    print(f\"{i} is not divisible by 3\")\n"
      ],
      "metadata": {
        "colab": {
          "base_uri": "https://localhost:8080/"
        },
        "id": "x9sWFDvzvKHr",
        "outputId": "a183e8b6-d1c9-49e8-8dc4-286ab85bed89"
      },
      "execution_count": 19,
      "outputs": [
        {
          "output_type": "stream",
          "name": "stdout",
          "text": [
            "1 is not divisible by 3\n",
            "2 is not divisible by 3\n",
            "3 is divisible by 3\n",
            "4 is not divisible by 3\n",
            "5 is not divisible by 3\n",
            "6 is divisible by 3\n",
            "7 is not divisible by 3\n",
            "8 is not divisible by 3\n",
            "9 is divisible by 3\n",
            "10 is not divisible by 3\n",
            "11 is not divisible by 3\n",
            "12 is divisible by 3\n",
            "13 is not divisible by 3\n",
            "14 is not divisible by 3\n",
            "15 is divisible by 3\n",
            "16 is not divisible by 3\n",
            "17 is not divisible by 3\n",
            "18 is divisible by 3\n",
            "19 is not divisible by 3\n",
            "20 is not divisible by 3\n",
            "21 is divisible by 3\n",
            "22 is not divisible by 3\n",
            "23 is not divisible by 3\n",
            "24 is divisible by 3\n",
            "25 is not divisible by 3\n"
          ]
        }
      ]
    },
    {
      "cell_type": "markdown",
      "source": [
        "#**Question-7**"
      ],
      "metadata": {
        "id": "ZWxZK2Gb6EEa"
      }
    },
    {
      "cell_type": "code",
      "source": [
        "#Mutable objects are those that allow you to change their value or data in place without affecting the object’s identity. \n",
        "#In contrast, immutable objects don’t allow this kind of operation."
      ],
      "metadata": {
        "id": "CLRsxbxK5ojR"
      },
      "execution_count": null,
      "outputs": []
    },
    {
      "cell_type": "code",
      "source": [
        "#mutable\n",
        "list_1 = [1,2,3,4,5]\n",
        "list_1[0] = 6\n",
        "print(list_1)"
      ],
      "metadata": {
        "colab": {
          "base_uri": "https://localhost:8080/"
        },
        "id": "Pdpv-_rZ5og2",
        "outputId": "993a01c7-ffbf-4a84-8a1d-657d8b3d9517"
      },
      "execution_count": null,
      "outputs": [
        {
          "output_type": "stream",
          "name": "stdout",
          "text": [
            "[6, 2, 3, 4, 5]\n"
          ]
        }
      ]
    },
    {
      "cell_type": "code",
      "source": [
        "#immutable\n",
        "string_1 = \"diveyesh\"\n",
        "string_1[0] = \"i\""
      ],
      "metadata": {
        "id": "h-VG3qoM5ocN"
      },
      "execution_count": null,
      "outputs": []
    },
    {
      "cell_type": "code",
      "source": [],
      "metadata": {
        "id": "TOi_uGRk5oZg"
      },
      "execution_count": null,
      "outputs": []
    },
    {
      "cell_type": "code",
      "source": [],
      "metadata": {
        "id": "q47WAkgu5oXS"
      },
      "execution_count": null,
      "outputs": []
    },
    {
      "cell_type": "code",
      "source": [],
      "metadata": {
        "id": "UytDvjsZ5oUO"
      },
      "execution_count": null,
      "outputs": []
    }
  ]
}